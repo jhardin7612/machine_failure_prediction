{
 "cells": [
  {
   "cell_type": "code",
   "execution_count": 1,
   "metadata": {},
   "outputs": [],
   "source": [
    "import pandas as pd\n",
    "import statsmodels.api as sm"
   ]
  },
  {
   "cell_type": "code",
   "execution_count": 4,
   "metadata": {},
   "outputs": [],
   "source": [
    "data = pd.read_csv('../data/data.csv')\n",
    "\n",
    "#Split Feature Variables from Target Variables\n",
    "X = data.drop('fail', axis=1)\n",
    "y = data['fail']\n",
    "\n",
    "# Adding the column of ones so it can provide intercept.\n",
    "X=sm.add_constant(X)\n",
    "\n",
    "#Split Data into test and training sets\n",
    "X_train, X_test, y_train, y_test = train_test_split(X, y, test_size = 0.2, random_state=14)"
   ]
  },
  {
   "cell_type": "code",
   "execution_count": 6,
   "metadata": {},
   "outputs": [
    {
     "name": "stdout",
     "output_type": "stream",
     "text": [
      "Optimization terminated successfully.\n",
      "         Current function value: 0.219860\n",
      "         Iterations 8\n",
      "                           Logit Regression Results                           \n",
      "==============================================================================\n",
      "Dep. Variable:                   fail   No. Observations:                  755\n",
      "Model:                          Logit   Df Residuals:                      745\n",
      "Method:                           MLE   Df Model:                            9\n",
      "Date:                Wed, 31 Jul 2024   Pseudo R-squ.:                  0.6778\n",
      "Time:                        17:25:50   Log-Likelihood:                -165.99\n",
      "converged:                       True   LL-Null:                       -515.14\n",
      "Covariance Type:            nonrobust   LLR p-value:                1.616e-144\n",
      "===============================================================================\n",
      "                  coef    std err          z      P>|z|      [0.025      0.975]\n",
      "-------------------------------------------------------------------------------\n",
      "const          -2.2315      1.183     -1.886      0.059      -4.550       0.087\n",
      "footfall    -1.548e-05      0.000     -0.125      0.901      -0.000       0.000\n",
      "tempMode        0.0117      0.058      0.202      0.840      -0.102       0.125\n",
      "AQ              0.6400      0.134      4.772      0.000       0.377       0.903\n",
      "USS            -0.9594      0.135     -7.108      0.000      -1.224      -0.695\n",
      "CS             -0.3584      0.119     -3.004      0.003      -0.592      -0.125\n",
      "VOC             1.0220      0.092     11.153      0.000       0.842       1.202\n",
      "RP              0.0025      0.010      0.258      0.796      -0.016       0.021\n",
      "IP             -0.0089      0.101     -0.088      0.930      -0.207       0.189\n",
      "Temperature     0.0191      0.027      0.713      0.476      -0.033       0.072\n",
      "===============================================================================\n"
     ]
    },
    {
     "name": "stderr",
     "output_type": "stream",
     "text": [
      "/opt/anaconda3/lib/python3.11/site-packages/statsmodels/base/model.py:130: ValueWarning: unknown kwargs ['random_state']\n",
      "  warnings.warn(msg, ValueWarning)\n",
      "/opt/anaconda3/lib/python3.11/site-packages/statsmodels/base/model.py:130: ValueWarning: unknown kwargs ['random_state']\n",
      "  warnings.warn(msg, ValueWarning)\n"
     ]
    }
   ],
   "source": [
    "model=sm.Logit(y_train,X_train,random_state=14)\n",
    "result=model.fit()\n",
    "print(result.summary())"
   ]
  },
  {
   "cell_type": "markdown",
   "metadata": {},
   "source": [
    "Statistically AQ, USS, CS and VOC are the most significant features. I plan to run a model with all features versus one with just the four features to see how they stack up against eachother. "
   ]
  }
 ],
 "metadata": {
  "kernelspec": {
   "display_name": "base",
   "language": "python",
   "name": "python3"
  },
  "language_info": {
   "codemirror_mode": {
    "name": "ipython",
    "version": 3
   },
   "file_extension": ".py",
   "mimetype": "text/x-python",
   "name": "python",
   "nbconvert_exporter": "python",
   "pygments_lexer": "ipython3",
   "version": "3.11.7"
  }
 },
 "nbformat": 4,
 "nbformat_minor": 2
}
